{
  "cells": [
    {
      "cell_type": "markdown",
      "metadata": {
        "id": "view-in-github",
        "colab_type": "text"
      },
      "source": [
        "<a href=\"https://colab.research.google.com/github/tejask-42/Modelling-Gravitational-Systems/blob/main/Recruitment_Problem_Statement_KCAP.ipynb\" target=\"_parent\"><img src=\"https://colab.research.google.com/assets/colab-badge.svg\" alt=\"Open In Colab\"/></a>"
      ]
    },
    {
      "cell_type": "markdown",
      "source": [
        "# K-CAP Assignment\n",
        "\n",
        "### Below are the instructions for the assignment. Please read and follow them carefully.\n",
        "\n",
        "1.   For doing the K-CAP project it is **mandatory** to complete the K-CAP assignment, based on which selections will be done.\n",
        "1.   There are 3 parts in this assignment and **none** are optional.\n",
        "2.   Answer/code for each question is to be written in the code cell following the question.\n",
        "3.   **Do not** edit this notebook. Make a copy in your drive to solve the assignment.\n",
        "3.   The csv files mentioned in the assignment, ```cepheids.csv``` and ```curves.csv``` can be downloaded and used from this [Drive link](https://drive.google.com/drive/folders/17DkvsU0GVGOnffZCsgkkp5A3SbQRTWQf?usp=sharing).\n",
        "2.   Comment your code wherever needed.\n",
        "3.   The resources that may be required for help and reference are uploaded on this [github repo](https://github.com/krittikaiitb/tutorials).\n",
        "4.   The **deadline** for the assignment submission is **29th November 11.59 pm** and no further extension will be provided.\n",
        "5.   Upload your notebook on Google Colab and share the link in this [google form](https://docs.google.com/forms/d/e/1FAIpQLSewj0UyD1a22d_GKOq-7_i9yWu40Az_x9s-rxJqVF-60_C9CA/viewform?usp=sharing) for submission.\n",
        "6.   Make sure you have given access to submission file before submitting.\n",
        "\n",
        "# All The Best!!"
      ],
      "metadata": {
        "id": "dMSDifO8SqLE"
      }
    },
    {
      "cell_type": "markdown",
      "metadata": {
        "id": "5ZIW_sqkpEXU"
      },
      "source": [
        "\n",
        "# Cepheid variables\n",
        "\n",
        "Cepheid variables are a type of variable star that pulsate radially, varying in both diameter and temperature, which produces changes in brightness with a well-defined stable period and amplitude. These stars are significant in the field of astronomy for several reasons:\n",
        "\n",
        "1. **Standard Candles**: Cepheids have a well-established relationship between their luminosity and pulsation period, known as the Leavitt law or period-luminosity relation. This makes them excellent standard candles for measuring astronomical distances.\n",
        "\n",
        "2. **Distance Measurement**: By observing the period of a Cepheid's brightness variations, astronomers can determine its absolute magnitude. Comparing this with the apparent magnitude allows for the calculation of the distance to the star, which is crucial for mapping the scale of the universe.\n",
        "\n",
        "3. **Galactic and Extragalactic Studies**: Cepheids are used to measure distances within our galaxy and to nearby galaxies. This helps in understanding the structure and scale of the Milky Way and the local group of galaxies.\n",
        "\n",
        "4. **Historical Importance**: The discovery of Cepheids in the Andromeda galaxy by Edwin Hubble was pivotal in establishing that the universe is expanding, leading to the formulation of the Big Bang theory.\n",
        "\n",
        "Cepheids continue to be a vital tool in modern astrophysics, aiding in the calibration of other distance measurement methods and contributing to our understanding of the cosmos."
      ]
    },
    {
      "cell_type": "markdown",
      "source": [
        "# Part 1\n",
        "\n",
        "The mechanism driving the pulsations of Cepheids involves complex interactions between radiation pressure, gas pressure, and opacity within the star's interior. Give a qualitative explanation of the thermal instability that leads to the pulsations in Cepheid variable stars, focusing on the role of the κ-mechanism (opacity mechanism)."
      ],
      "metadata": {
        "id": "P8VTOFpoI41v"
      }
    },
    {
      "cell_type": "markdown",
      "source": [
        "Cepheid variable stars are a type of standard candle used to find out the distance of stars or galaxies from Earth. They allowed us to find out that the universe is expanding. They are upto 30,000 times more luminous than the sun and 5 to 20 times more massive. They are called \"variable\" stars because their luminosity changes periodically with time. It attains a maximum, a minimum, and back to the same maximum in one time period, but the time taken to go from a minimum to a maximum is lesser than the other way. This periodic phenomenon is possible due to the thermal instability inside these stars. This can be explained using the κ(kappa)-mechanism. The star has a inner core and an outer layer. It contains helium atoms and ions. The outer layer, which is relatively cooler, contains singly ionised helium ions which are relatively more transparent. The inner core, which is hotter and is under much more pressure, contains doubly ionised helium ions which are relatively more opaque than singly ionised ions. This opacity causes more light to be absorbed by the core, and also traps radiation. If at an instance, we see the cepheid star having some diameter, with both the outer He+ layer and inner He2+ core present, the transparent outer layer will not absorb as much light energy, causing it to cool and contract. Upon contracting, the pressure in inner core increases, creating more opaque He2+ ions, which will absorb more light energy and trap radiation, thus causing it to expand again. This cycle continues periodically causing the star to pulsate both in observed brightness and size. This is possible only if the star is present in a specific temperature range called the instability strip on the Hertzsprung-Russell Diagram."
      ],
      "metadata": {
        "id": "dm1Ied5xSyZ0"
      }
    },
    {
      "cell_type": "markdown",
      "metadata": {
        "id": "ijKuGxUCpEXW"
      },
      "source": [
        "# Part 2\n",
        "\n",
        "The data in ```cepheids.csv``` is organised in two columns: the period of the cepheid variable and its absolute magnitude calculated from mean luminosity.\n",
        "\n",
        "These two values are actually related by the Leavitt law:\n",
        "$$M = a \\cdot \\log_{10}{P} + b$$\n",
        "\n",
        "First, find the constants $a$ and $b$ in this relation to fit the given data."
      ]
    },
    {
      "cell_type": "code",
      "execution_count": null,
      "metadata": {
        "id": "JKeLL090pEXX"
      },
      "outputs": [],
      "source": [
        "import numpy as np\n",
        "import matplotlib.pyplot as plt\n",
        "from scipy.optimize import curve_fit as cf\n",
        "%matplotlib inline"
      ]
    },
    {
      "cell_type": "code",
      "source": [
        "with open(\"cepheids.csv\", \"r\") as f:\n",
        "  lines = f.read().split(\"\\n\")[1:-1] # First line contains heading Period, M, last line blank\n",
        "lines = np.array([[float(i) for i in n.split(\",\")] for n in lines]) # convert string to float\n",
        "x_data = np.log10(lines[:, 0]) # converting time data to log10 as needed in eqn\n",
        "y_data = lines[:, 1]\n",
        "plt.xlabel(\"Log of period\")\n",
        "plt.ylabel(\"Absolute magnitudes\")\n",
        "plt.title(\"Cepheids data\")\n",
        "plt.scatter(x_data, y_data, s=1)\n",
        "plt.show()"
      ],
      "metadata": {
        "colab": {
          "base_uri": "https://localhost:8080/",
          "height": 472
        },
        "id": "UX---mgntyzF",
        "outputId": "bc1138b3-9634-4493-a8d4-496647918f9a"
      },
      "execution_count": null,
      "outputs": [
        {
          "output_type": "display_data",
          "data": {
            "text/plain": [
              "<Figure size 640x480 with 1 Axes>"
            ],
            "image/png": "[encoded data removed]"
          },
          "metadata": {}
        }
      ]
    },
    {
      "cell_type": "code",
      "source": [
        "def y(x, m, c): # as M has a linear relation with log10(P)\n",
        "  return m*x + c\n",
        "p_opt, p_cov = cf(y, x_data, y_data) # finding best linear fit for data\n",
        "a, b = p_opt # gives best parameters of m and c, which is a and b here respectively\n",
        "print(f\"a = {a}, b = {b}\")\n",
        "print(f\"M = {round(a, 2)}*log10P + {round(b, 2)}\") # final relation of Leavitt law"
      ],
      "metadata": {
        "colab": {
          "base_uri": "https://localhost:8080/"
        },
        "id": "BD6cMtFxup0n",
        "outputId": "0d8972e7-9b37-4a06-e390-d547e4830bd2"
      },
      "execution_count": null,
      "outputs": [
        {
          "output_type": "stream",
          "name": "stdout",
          "text": [
            "a = -2.2164100178416217, b = -1.680867436126496\n",
            "M = -2.22*log10P + -1.68\n"
          ]
        }
      ]
    },
    {
      "cell_type": "markdown",
      "source": [
        "Next, plot the data along with your fitted line to visually verify that you have found the correct constants."
      ],
      "metadata": {
        "id": "Ruby4DqfsBCn"
      }
    },
    {
      "cell_type": "code",
      "execution_count": null,
      "metadata": {
        "id": "lqYlqsOjpEXZ",
        "colab": {
          "base_uri": "https://localhost:8080/",
          "height": 489
        },
        "outputId": "5b96fe42-0ed2-4c89-ac84-7e53b2d78e8a"
      },
      "outputs": [
        {
          "output_type": "execute_result",
          "data": {
            "text/plain": [
              "<matplotlib.legend.Legend at 0x7eddb84b9cf0>"
            ]
          },
          "metadata": {},
          "execution_count": 13
        },
        {
          "output_type": "display_data",
          "data": {
            "text/plain": [
              "<Figure size 640x480 with 1 Axes>"
            ],
            "image/png": "[encoded data removed]"
          },
          "metadata": {}
        }
      ],
      "source": [
        "plt.plot(x_data,y(x_data,*p_opt),label='Best fit line',color='r')\n",
        "# plotting all corresponding y values to get the straight line\n",
        "plt.scatter(x_data,y_data,label='Cepheids data',s=1)\n",
        "plt.ylabel('Absolute magnitudes')\n",
        "plt.xlabel('Log of time period')\n",
        "plt.title('Approximiation of Leavitt Law')\n",
        "plt.grid()\n",
        "plt.legend()"
      ]
    },
    {
      "cell_type": "markdown",
      "metadata": {
        "id": "cO-VUH8wpEXc"
      },
      "source": [
        "# Part 3\n",
        "\n",
        "Now we are ready to use the result we have obtained from the above markdown to solve the problem.\n",
        "\n",
        "Given in the ```curves.csv``` file is the data of the light curves of many cepheids in the line of sight of a galaxy. The data contains three columns: ID(Unique for every cepheid), JD (the julian date of observation) and the apparent magnitude observed."
      ]
    },
    {
      "cell_type": "code",
      "execution_count": null,
      "metadata": {
        "id": "cNASTnDzpEXe"
      },
      "outputs": [],
      "source": [
        "with open(\"curves.csv\", \"r\") as f:\n",
        "  lines = f.read().split(\"\\n\")[1:-1] # First line contains ID, JD, m, last line blank\n",
        "lines = np.array([[float(i) for i in n.split(\",\")] for n in lines]) # convert string to float\n",
        "ids, jds, m = lines[:, 0], lines[:, 1], lines[:, 2]"
      ]
    },
    {
      "cell_type": "markdown",
      "metadata": {
        "id": "MTTC03qQpEXc"
      },
      "source": [
        "First we need to find the period of each cepheid."
      ]
    },
    {
      "cell_type": "code",
      "source": [
        "from astropy.timeseries import LombScargle\n",
        "# using LombScargle tool from astropy which identifies dominant frequency in unevenly spaced\n",
        "# time series data such as this one by trying to fit sinusoidal functions to the data\n",
        "uids = 0\n",
        "cepheids = dict()\n",
        "for id in np.unique(ids):\n",
        "  JD = jds[ids == id]\n",
        "  magnitude = m[ids == id]\n",
        "\n",
        "  # Normalize JD to avoid numerical instability as JD values are large and only difference matters\n",
        "  JD_normalized = JD - JD[0]\n",
        "\n",
        "  # Compute the Lomb-Scargle periodogram\n",
        "  frequency, power = LombScargle(JD_normalized, magnitude).autopower()\n",
        "\n",
        "  # Find the period corresponding to the highest power\n",
        "  best_frequency = frequency[np.argmax(power)]\n",
        "  best_period = 1 / best_frequency\n",
        "\n",
        "  cepheids[id] = best_period\n",
        "  uids += 1\n",
        "# now cepheids dictionary contains the period in days of each star corresponding to its ID\n",
        "print(cepheids[ids[0]])"
      ],
      "metadata": {
        "colab": {
          "base_uri": "https://localhost:8080/"
        },
        "id": "2JYwjJuVKhJL",
        "outputId": "21e89007-f19d-42f8-c9ca-125f8e3bdfe6"
      },
      "execution_count": null,
      "outputs": [
        {
          "output_type": "stream",
          "name": "stdout",
          "text": [
            "3.6161445481481476\n"
          ]
        }
      ]
    },
    {
      "cell_type": "markdown",
      "metadata": {
        "id": "9lq_leNfpEXg"
      },
      "source": [
        "Next, using the calculated periods, find the absolute magnitude of these stars using the relation you found earlier.\n",
        "\n"
      ]
    },
    {
      "cell_type": "code",
      "execution_count": null,
      "metadata": {
        "id": "P1I7j_qrpEXh",
        "colab": {
          "base_uri": "https://localhost:8080/"
        },
        "outputId": "9706f066-c3a0-4813-f2c3-84a086ead8e3"
      },
      "outputs": [
        {
          "output_type": "stream",
          "name": "stdout",
          "text": [
            "[3.6161445481481476, -2.918168980221012]\n"
          ]
        }
      ],
      "source": [
        "for id in cepheids:\n",
        "  cepheids[id] = [cepheids[id], y(np.log10(cepheids[id]), a, b)]\n",
        "# now cepheids dictionary contains period as well as absolute magnitude of each star\n",
        "print(cepheids[ids[0]])"
      ]
    },
    {
      "cell_type": "markdown",
      "metadata": {
        "id": "7nu7k4_3pEXi"
      },
      "source": [
        "Then, using the apparent magnitude data, find the distance to these cepheid variables."
      ]
    },
    {
      "cell_type": "code",
      "execution_count": null,
      "metadata": {
        "id": "LBNcBz0spEXi",
        "colab": {
          "base_uri": "https://localhost:8080/"
        },
        "outputId": "a80ba2d6-1233-4436-cf8f-eb8381275f7a"
      },
      "outputs": [
        {
          "output_type": "stream",
          "name": "stdout",
          "text": [
            "[3.6161445481481476, -2.918168980221012, 1000686.9925843175]\n"
          ]
        }
      ],
      "source": [
        "# using apparent magnitude(m) - absolute magnitude(M) = 5 * (logd - 1)\n",
        "# where d is the distance in parsecs\n",
        "distances = []\n",
        "for id in cepheids:\n",
        "#  d  =   10 ^ ((    m        -   M             + 5)  / 5))\n",
        "  dist = 10 ** ((m[ids == id] - cepheids[id][1] + 5) / 5)\n",
        "  # taking the average of this array of distances\n",
        "  cepheids[id].append(np.average(dist))\n",
        "  distances.append(np.average(dist))\n",
        "# now cepheids dictionary contains period, absolute magnitude, and distance to each star\n",
        "print(cepheids[ids[0]])"
      ]
    },
    {
      "cell_type": "markdown",
      "source": [
        "Finally, find the distance to the galaxy being observed."
      ],
      "metadata": {
        "id": "pJ_ERwSps2pD"
      }
    },
    {
      "cell_type": "code",
      "source": [
        "from astropy.stats import sigma_clipped_stats"
      ],
      "metadata": {
        "id": "RLSkN4oGhODo"
      },
      "execution_count": null,
      "outputs": []
    },
    {
      "cell_type": "code",
      "source": [
        "# as we are observing in line of sight of a galaxy, some stars could be included in this data\n",
        "# which do not belong to the galaxy\n",
        "mean, median, std = sigma_clipped_stats(distances)\n",
        "# clips the data to mean += std.dev, and recalculates till convergence\n",
        "# thus outliers will be removed and mean will hold the distance to our galaxy\n",
        "print(f\"The distance to the galaxy is {round(mean, 2)} parsecs.\")"
      ],
      "metadata": {
        "id": "uIOdMPxFtTBs",
        "colab": {
          "base_uri": "https://localhost:8080/"
        },
        "outputId": "e0c87456-9333-4f90-b0e1-e8f296afa7a8"
      },
      "execution_count": null,
      "outputs": [
        {
          "output_type": "stream",
          "name": "stdout",
          "text": [
            "The distance to the galaxy is 834378.26 parsecs.\n"
          ]
        }
      ]
    }
  ],
  "metadata": {
    "kernelspec": {
      "display_name": "Python 3",
      "language": "python",
      "name": "python3"
    },
    "language_info": {
      "codemirror_mode": {
        "name": "ipython",
        "version": 3
      },
      "file_extension": ".py",
      "mimetype": "text/x-python",
      "name": "python",
      "nbconvert_exporter": "python",
      "pygments_lexer": "ipython3",
      "version": "3.12.3"
    },
    "colab": {
      "provenance": [],
      "include_colab_link": true
    }
  },
  "nbformat": 4,
  "nbformat_minor": 0
}